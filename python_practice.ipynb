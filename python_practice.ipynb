{
 "cells": [
  {
   "cell_type": "code",
   "execution_count": 1,
   "id": "791c6967-7865-45f0-89de-fe0ce2bef6ef",
   "metadata": {},
   "outputs": [
    {
     "name": "stdout",
     "output_type": "stream",
     "text": [
      "Hello World!\n"
     ]
    }
   ],
   "source": [
    "print(\"Hello World!\")"
   ]
  },
  {
   "cell_type": "code",
   "execution_count": 1,
   "id": "0283470e-78f4-4bbc-95a4-073e6825755d",
   "metadata": {},
   "outputs": [
    {
     "name": "stdin",
     "output_type": "stream",
     "text": [
      "Enter your age:  1\n"
     ]
    },
    {
     "name": "stdout",
     "output_type": "stream",
     "text": [
      "You're 1\n"
     ]
    }
   ],
   "source": [
    "age = input(\"Enter your age: \")\n",
    "print(\"You're \"+ age)"
   ]
  },
  {
   "cell_type": "code",
   "execution_count": 7,
   "id": "7ed0cc45-0b62-4d45-9994-a085d4e9969f",
   "metadata": {
    "editable": true,
    "slideshow": {
     "slide_type": ""
    },
    "tags": []
   },
   "outputs": [
    {
     "name": "stdin",
     "output_type": "stream",
     "text": [
      "Name:  Imran\n",
      "Age:  22\n",
      "Student? True/False?:  True\n"
     ]
    },
    {
     "name": "stdout",
     "output_type": "stream",
     "text": [
      "Hi I'm Imran (22).\n"
     ]
    }
   ],
   "source": [
    "name = input(\"Name: \")\n",
    "age = input(\"Age: \")\n",
    "is_student = input(\"Student? True/False?: \")\n",
    "\n",
    "print(\"Hi I'm \" + name + \" (\" + str(age) + \").\")"
   ]
  },
  {
   "cell_type": "code",
   "execution_count": 19,
   "id": "598a276d-ae26-4517-8c29-0d7cf01e61d5",
   "metadata": {},
   "outputs": [
    {
     "name": "stdout",
     "output_type": "stream",
     "text": [
      "40\n",
      "False\n",
      "False\n"
     ]
    }
   ],
   "source": [
    "a = 10\n",
    "b = 30\n",
    "print(a + b)  \n",
    "print(a > b)  \n",
    "print(a > 2 and b < 4)"
   ]
  },
  {
   "cell_type": "code",
   "execution_count": 1,
   "id": "35c615c9-53e2-4c68-ad08-c8cc2ab91778",
   "metadata": {},
   "outputs": [
    {
     "name": "stdin",
     "output_type": "stream",
     "text": [
      "Enter a number:  5\n"
     ]
    },
    {
     "name": "stdout",
     "output_type": "stream",
     "text": [
      "The entered number is odd\n"
     ]
    }
   ],
   "source": [
    "num = int(input(\"Enter a number: \"))\n",
    "\n",
    "if (num%2 == 0):\n",
    "    print(\"The entered number is even\")\n",
    "else:\n",
    "    print(\"The entered number is odd\")    "
   ]
  },
  {
   "cell_type": "code",
   "execution_count": 2,
   "id": "0c9ba208-9e0a-412d-9bd7-cf62c6e6e65f",
   "metadata": {},
   "outputs": [
    {
     "name": "stdin",
     "output_type": "stream",
     "text": [
      "Enter a number:  10\n"
     ]
    },
    {
     "name": "stdout",
     "output_type": "stream",
     "text": [
      "0\n",
      "1\n",
      "2\n",
      "3\n",
      "4\n",
      "5\n",
      "6\n",
      "7\n",
      "8\n",
      "9\n"
     ]
    }
   ],
   "source": [
    "limit = int(input(\"Enter a number: \"))\n",
    "\n",
    "for i in range(limit):\n",
    "    print(i)\n"
   ]
  },
  {
   "cell_type": "code",
   "execution_count": 3,
   "id": "a5c6c8df-40a7-40df-bce3-080379d3e6c2",
   "metadata": {},
   "outputs": [
    {
     "name": "stdin",
     "output_type": "stream",
     "text": [
      "Enter a number:  5\n"
     ]
    },
    {
     "name": "stdout",
     "output_type": "stream",
     "text": [
      "0\n",
      "1\n",
      "2\n",
      "3\n",
      "4\n",
      "5\n"
     ]
    }
   ],
   "source": [
    "limit = int(input(\"Enter a number: \"))\n",
    "\n",
    "i = 0\n",
    "\n",
    "while (i <= limit):\n",
    "    print(i)\n",
    "    i = i + 1"
   ]
  },
  {
   "cell_type": "code",
   "execution_count": 55,
   "id": "2f3de2c8-be0a-415a-8a09-a5ef1a6781cb",
   "metadata": {},
   "outputs": [
    {
     "name": "stdout",
     "output_type": "stream",
     "text": [
      "30\n"
     ]
    }
   ],
   "source": [
    "def getSum(x, y):\n",
    "    return x + y\n",
    "\n",
    "print(getSum(10,20))\n"
   ]
  },
  {
   "cell_type": "code",
   "execution_count": 6,
   "id": "e7efe3ac-7583-4dfb-bf4f-9e53755a6c05",
   "metadata": {},
   "outputs": [
    {
     "name": "stdout",
     "output_type": "stream",
     "text": [
      "[1, 2, 3]\n",
      "(1, 2)\n",
      "{1, 2, 3, 'hello'}\n",
      "{'name': 'Imran', 'age': 22}\n"
     ]
    }
   ],
   "source": [
    "my_list = [1, 2, 3]\n",
    "my_tuple = (1, 2)\n",
    "my_set = {1, 2, 2, 3}\n",
    "my_dict = {\"name\": \"Imran\", \"age\": 22}\n",
    "\n",
    "print(my_list)\n",
    "print(my_tuple)\n",
    "print(my_set)\n",
    "print(my_dict)"
   ]
  },
  {
   "cell_type": "code",
   "execution_count": 63,
   "id": "b14a33a2-e1bb-4249-afc3-766d9fd44f00",
   "metadata": {},
   "outputs": [
    {
     "name": "stdout",
     "output_type": "stream",
     "text": [
      "IMRAN\n",
      "Imr\n"
     ]
    }
   ],
   "source": [
    "s = \"Imran\"\n",
    "print(s.upper())\n",
    "print(s[0:3])"
   ]
  },
  {
   "cell_type": "code",
   "execution_count": 20,
   "id": "b4351d28-1cb2-4a23-8f4d-f1099e044097",
   "metadata": {},
   "outputs": [],
   "source": [
    "with open(\"data_1.txt\", \"w\") as file:\n",
    "    file.write(\"Hello World!\")"
   ]
  },
  {
   "cell_type": "code",
   "execution_count": 21,
   "id": "4e79e844-72b9-436d-85fa-0ede9d3db829",
   "metadata": {},
   "outputs": [
    {
     "name": "stdout",
     "output_type": "stream",
     "text": [
      "Hello World!\n"
     ]
    }
   ],
   "source": [
    "with open(\"data_1.txt\", \"r\") as file:\n",
    "    content = file.read()\n",
    "    print(content)"
   ]
  },
  {
   "cell_type": "code",
   "execution_count": 44,
   "id": "35c73d4c-f422-4ece-9d4b-5be099ae9d8a",
   "metadata": {},
   "outputs": [
    {
     "name": "stdout",
     "output_type": "stream",
     "text": [
      "division by zero\n"
     ]
    }
   ],
   "source": [
    "try:\n",
    "    x = 1/0\n",
    "    print(x)\n",
    "except Exception as e:\n",
    "    print(e)"
   ]
  },
  {
   "cell_type": "code",
   "execution_count": 45,
   "id": "7524d448-6769-47b0-b977-62607a1bac75",
   "metadata": {},
   "outputs": [
    {
     "name": "stdout",
     "output_type": "stream",
     "text": [
      "2.23606797749979\n"
     ]
    }
   ],
   "source": [
    "import math\n",
    "print(math.sqrt(5))"
   ]
  },
  {
   "cell_type": "code",
   "execution_count": 53,
   "id": "081f118d-29cd-4190-bdb2-bf310a3232ae",
   "metadata": {},
   "outputs": [
    {
     "name": "stdout",
     "output_type": "stream",
     "text": [
      "Imran\n"
     ]
    }
   ],
   "source": [
    "class Person:\n",
    "    def __init__(self, name):\n",
    "        self.name = name\n",
    "\n",
    "    def printName(self):\n",
    "        print(self.name)\n",
    "\n",
    "p1 = Person(\"Imran\")\n",
    "p1.printName()"
   ]
  },
  {
   "cell_type": "code",
   "execution_count": null,
   "id": "9179222d-a1a0-4362-9940-c18100b983fc",
   "metadata": {},
   "outputs": [],
   "source": []
  }
 ],
 "metadata": {
  "kernelspec": {
   "display_name": "anaconda-2024.02-py310",
   "language": "python",
   "name": "conda-env-anaconda-2024.02-py310-py"
  },
  "language_info": {
   "codemirror_mode": {
    "name": "ipython",
    "version": 3
   },
   "file_extension": ".py",
   "mimetype": "text/x-python",
   "name": "python",
   "nbconvert_exporter": "python",
   "pygments_lexer": "ipython3",
   "version": "3.10.14"
  }
 },
 "nbformat": 4,
 "nbformat_minor": 5
}
